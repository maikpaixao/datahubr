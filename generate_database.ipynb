{
  "nbformat": 4,
  "nbformat_minor": 0,
  "metadata": {
    "colab": {
      "provenance": [],
      "authorship_tag": "ABX9TyPtMdgVY7JVi1ZNTWuUSyUX",
      "include_colab_link": true
    },
    "kernelspec": {
      "name": "python3",
      "display_name": "Python 3"
    },
    "language_info": {
      "name": "python"
    }
  },
  "cells": [
    {
      "cell_type": "markdown",
      "metadata": {
        "id": "view-in-github",
        "colab_type": "text"
      },
      "source": [
        "<a href=\"https://colab.research.google.com/github/maikpaixao/database-hub/blob/main/generate_database.ipynb\" target=\"_parent\"><img src=\"https://colab.research.google.com/assets/colab-badge.svg\" alt=\"Open In Colab\"/></a>"
      ]
    },
    {
      "cell_type": "code",
      "execution_count": 1,
      "metadata": {
        "id": "r9Xl-4ZhUuHG"
      },
      "outputs": [],
      "source": [
        "import random\n",
        "import csv\n",
        "from datetime import datetime"
      ]
    },
    {
      "cell_type": "code",
      "source": [
        "\n",
        "num_rows = 200000\n",
        "locations = [\"Sao Paulo\", \"Campinas\", \"Recife\", \"Porto Alegre\", \"Rio de Janeiro\", \"Santo André\", \"São Caetano\", \"Salvador\", \"Curitiba\", \"Fortaleza\", \"Brasilia\", \"Belo Horizonte\"]\n"
      ],
      "metadata": {
        "id": "76p9ev3DUy09"
      },
      "execution_count": 2,
      "outputs": []
    },
    {
      "cell_type": "code",
      "source": [
        "with open('fraud_detection.csv', 'w', newline='') as csvfile:\n",
        "    fieldnames = [\"TransactionID\", \"CustomerID\", \"CustGender\", \"CustLocation\", \"CustAccountBalance\", \"TransactionDate\", \"TransactionTime\", \"TransactionAmount\"]\n",
        "    writer = csv.DictWriter(csvfile, fieldnames=fieldnames)\n",
        "    writer.writeheader()\n",
        "\n",
        "    for i in range(1, num_rows+1):\n",
        "        writer.writerow({\n",
        "            'TransactionID': i,\n",
        "            'CustomerID': random.randint(1000, 9999),\n",
        "            'CustGender': random.choice(['M', 'F']),\n",
        "            'CustLocation': random.choice(locations),\n",
        "            'CustAccountBalance': round(random.uniform(1000, 10000), 2),\n",
        "            'TransactionDate': datetime.now().date(),\n",
        "            'TransactionTime': \"{:02d}:{:02d}:{:02d}\".format(random.randint(0,23), random.randint(0,59), random.randint(0,59)),\n",
        "            'TransactionAmount': round(random.uniform(50, 1000), 2),\n",
        "        })"
      ],
      "metadata": {
        "id": "iyZi_ouqU0GX"
      },
      "execution_count": 3,
      "outputs": []
    },
    {
      "cell_type": "code",
      "source": [],
      "metadata": {
        "id": "UG_XzpqGVM1l"
      },
      "execution_count": null,
      "outputs": []
    }
  ]
}